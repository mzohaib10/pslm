{
 "cells": [
  {
   "cell_type": "markdown",
   "metadata": {},
   "source": [
    "# PSLM Survey Analysis"
   ]
  },
  {
   "cell_type": "code",
   "execution_count": 6,
   "metadata": {
    "collapsed": false
   },
   "outputs": [
    {
     "name": "stdout",
     "output_type": "stream",
     "text": [
      "/Users/zohaib/pslm/notebooks/Final_Merged_Data_1970_2013.sav\n"
     ]
    }
   ],
   "source": [
    "import os\n",
    "print os.path.abspath(\"Final_Merged_Data_1970_2013.sav\")"
   ]
  },
  {
   "cell_type": "code",
   "execution_count": 11,
   "metadata": {
    "collapsed": false
   },
   "outputs": [
    {
     "name": "stdout",
     "output_type": "stream",
     "text": [
      "Collecting savReaderWriter\n",
      "  Downloading savReaderWriter-3.4.2.tar.gz (50.9MB)\n",
      "\u001b[K    100% |████████████████████████████████| 50.9MB 15kB/s \n",
      "\u001b[?25hBuilding wheels for collected packages: savReaderWriter\n",
      "  Running setup.py bdist_wheel for savReaderWriter ... \u001b[?25l-\b \b\\\b \b|\b \b/\b \b-\b \bdone\n",
      "\u001b[?25h  Stored in directory: /Users/zohaib/Library/Caches/pip/wheels/ee/9f/ef/b1f514616baa419d597030dd91c2bedfe53c9c5f529b044957\n",
      "Successfully built savReaderWriter\n",
      "Installing collected packages: savReaderWriter\n",
      "Successfully installed savReaderWriter-3.4.2\n"
     ]
    }
   ],
   "source": [
    "!pip install savReaderWriter"
   ]
  },
  {
   "cell_type": "code",
   "execution_count": 16,
   "metadata": {
    "collapsed": false
   },
   "outputs": [],
   "source": [
    "import pandas as pd\n",
    "import numpy as np\n",
    "import os\n",
    "import savReaderWriter as spss"
   ]
  },
  {
   "cell_type": "code",
   "execution_count": 19,
   "metadata": {
    "collapsed": false
   },
   "outputs": [],
   "source": [
    "pd.read_stata?"
   ]
  },
  {
   "cell_type": "code",
   "execution_count": null,
   "metadata": {
    "collapsed": true
   },
   "outputs": [],
   "source": []
  }
 ],
 "metadata": {
  "anaconda-cloud": {},
  "kernelspec": {
   "display_name": "Python [Root]",
   "language": "python",
   "name": "Python [Root]"
  },
  "language_info": {
   "codemirror_mode": {
    "name": "ipython",
    "version": 2
   },
   "file_extension": ".py",
   "mimetype": "text/x-python",
   "name": "python",
   "nbconvert_exporter": "python",
   "pygments_lexer": "ipython2",
   "version": "2.7.11"
  }
 },
 "nbformat": 4,
 "nbformat_minor": 0
}
